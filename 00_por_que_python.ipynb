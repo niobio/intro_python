{
 "cells": [
  {
   "cell_type": "markdown",
   "metadata": {
    "slideshow": {
     "slide_type": "-"
    }
   },
   "source": [
    "# ¿Por qué Python?"
   ]
  },
  {
   "cell_type": "markdown",
   "metadata": {
    "slideshow": {
     "slide_type": "-"
    }
   },
   "source": [
    "<img src=\"files/01_empezando_files/most_popular.png\">"
   ]
  },
  {
   "cell_type": "markdown",
   "metadata": {
    "slideshow": {
     "slide_type": "slide"
    }
   },
   "source": [
    "Motivos por los que hemos elegido Python:\n",
    "\n",
    "* Es gratis: es software de codigo abierto\n",
    "* Es fácil de aprender: tiene una sintaxis simple\n",
    "* Es fácil de leer: no está lleno de signos de puntuación como otros lenguajes\n",
    "* Es fácil de mantener: es modular por simplicidad\n",
    "* Viene con \"baterías incluidas\": tiene una gran cantidad de bibliotecas que se pueden integrar en nuestros programas\n",
    "* Es interactivo: tiene un terminal donde nos permite probar nuestro código rápidamente\n",
    "* Es multiplataforma: se pueden ejecutar los programas en cualquier plataforma (Windows, Linux, Mac, etc.)\n",
    "* Es interpretado: no necesitamos compilar el código\n",
    "* Es de alto nivel: controla automáticamente el uso de memoria\n",
    "* Es extensible: permite el agregado de módulos de bajo nivel\n",
    "* Es versátil: Admite distintas formas de programación como programación funcional u orientada a objetos\n",
    "* Es flexible: puede crear programas de consola, de ventanas, para dispositivos táctiles, aplicaciones web..."
   ]
  },
  {
   "cell_type": "markdown",
   "metadata": {},
   "source": [
    "Cuando decimos que Python viene con baterías incluidas queremos decir que hay un sinfín de bibliotecas con programas ya hechos disponibles para usar en nuestros programas lo que le da a Python un gran potencial debido a las muchas cosas que ya vienen listas para usar. Con esto nos ahorraremos muchísimo tiempo. En la figura de abajo se pueden ver muchas de las posibles aplicaciones del lenguaje Python."
   ]
  },
  {
   "cell_type": "markdown",
   "metadata": {
    "slideshow": {
     "slide_type": "slide"
    }
   },
   "source": [
    "<img src=\"files/01_empezando_files/python_ecosystem.svg\">"
   ]
  }
 ],
 "metadata": {
  "kernelspec": {
   "display_name": "Python 3",
   "language": "python",
   "name": "python3"
  },
  "language_info": {
   "codemirror_mode": {
    "name": "ipython",
    "version": 3
   },
   "file_extension": ".py",
   "mimetype": "text/x-python",
   "name": "python",
   "nbconvert_exporter": "python",
   "pygments_lexer": "ipython3",
   "version": "3.4.3"
  }
 },
 "nbformat": 4,
 "nbformat_minor": 0
}
