{
 "cells": [
  {
   "cell_type": "markdown",
   "metadata": {},
   "source": [
    "# Proyecto: Juego del ahorcado"
   ]
  },
  {
   "cell_type": "markdown",
   "metadata": {},
   "source": [
    "En este proyecto intentaremos hacer el juego del ahorcado y mientras lo hacemos aprenderemos unos cuantos conceptos de programación por el camino."
   ]
  },
  {
   "cell_type": "markdown",
   "metadata": {},
   "source": [
    "## La parte gráfica"
   ]
  },
  {
   "cell_type": "markdown",
   "metadata": {},
   "source": [
    "Las aplicaciones gráficas las podemos hacer en Python con bibliotecas gráficas. Hay varias biliotecas gráficas disponibles en Python (wxPython, PyQt, Kivy, etc.). Nosotros usaremos la biblioteca gráfica que viene por defecto con la distribución de Python, es decir, la que ya tenemos instalada en nuestro ordenador. Estamos hablando de `tkinter`, y esta biblioteca gráfica trae todos los artilugios a los que estamos acostumbrados cuando usamos aplicaciones gráficas (también conocidas como GUI o Graphical User Interphase), como son ventanas, botones, menús, etiquetas, etc. Todos estos elementos gráficos se conocen como **widgets**. Veamos ahora como usar `tkinter` para crear nuestra primera ventana:"
   ]
  },
  {
   "cell_type": "code",
   "execution_count": null,
   "metadata": {
    "collapsed": false
   },
   "outputs": [],
   "source": [
    "import tkinter\n",
    "\n",
    "ventana = tkinter.Tk()\n",
    "ventana.title(\"Juego del ahorcado\")\n",
    "\n",
    "ventana.mainloop()"
   ]
  },
  {
   "cell_type": "markdown",
   "metadata": {},
   "source": [
    "Primero importamos el paquete `tkinter` que tiene todos los módulos que necesitaremos. Luego creamos la ventana con el método `Tk()` y le ponemos el título de nuestro juego. Para terminar llamamos al bucle principal que hará que nuestra ventana se mantenga abierta (`mainloop()`). Podemos ver como queda nuestra primera ventana:"
   ]
  },
  {
   "cell_type": "markdown",
   "metadata": {},
   "source": [
    "<img src='code/img/ventana01.png'>"
   ]
  },
  {
   "cell_type": "markdown",
   "metadata": {},
   "source": [
    "### Creando las imágenes de nuestra aplicación"
   ]
  },
  {
   "cell_type": "markdown",
   "metadata": {},
   "source": [
    "Para nuestro juego del ahorcado crearemos las imágenes con el programa de diseño de imágenes vectoriales Inkscape, que podemos descargar de http://www.inkscape.org. La primera imagen que mostraremos en el juego será la del cadalso (el palo del que colgará nuestro monigote), que exportaremos con el nombre ``img01.png``. Podemos ver a continuación la imagen"
   ]
  },
  {
   "cell_type": "markdown",
   "metadata": {},
   "source": [
    "<img src='code/img/img1.png'>"
   ]
  },
  {
   "cell_type": "markdown",
   "metadata": {},
   "source": [
    "A continuación pondremos en nuestra ventana el widget llamado **canvas** (que quiere decir \"lienzo\").El **canvas** permite dibujar o pintar sobre eĺ o poner una imagen. En este caso pondremos nuestra imagen que tiene una medida de 300 píxeles de ancho por 200 píxeles de alto. "
   ]
  },
  {
   "cell_type": "code",
   "execution_count": null,
   "metadata": {
    "collapsed": true
   },
   "outputs": [],
   "source": [
    "ancho = 300\n",
    "alto = 200\n",
    "\n",
    "imagen = tkinter.PhotoImage(file = 'img1.png')\n",
    "canvas = tkinter.Canvas(ventana, width=ancho, height=alto)\n",
    "canvas.create_image(0,0,image=imagen,anchor=tkinter.NW)\n",
    "canvas.pack()"
   ]
  },
  {
   "cell_type": "markdown",
   "metadata": {},
   "source": [
    "Observar que al finalizar la creación del canvas se llama al método `pack()` que se encarga de colocar el widget dentro de la ventana. \n",
    "\n",
    "A continuación veremos como poner otro widget llamado `Label` (etiqueta), que nos permite poner un texto en la ventana. En este caso pondremos la palabra \"ESTO ES UNA PRUEBA\" a modo de ejemplo."
   ]
  },
  {
   "cell_type": "code",
   "execution_count": null,
   "metadata": {
    "collapsed": true
   },
   "outputs": [],
   "source": [
    "texto = tkinter.Label(text = 'ESTO ES UNA PRUEBA', anchor=tkinter.NW)\n",
    "texto.pack()"
   ]
  },
  {
   "cell_type": "markdown",
   "metadata": {},
   "source": [
    "Observar que la propiedad `anchor` se encarga de ubicar la etiqueta en la esquina noroeste (NW) del widget. El comando `pack` coloca el widget a continuación del anterior (debajo).\n",
    "\n",
    "Otro widget que introduciremos será una caja de texto, que en tkinter se llama `Entry` para poder introducir las letras en el juego."
   ]
  },
  {
   "cell_type": "code",
   "execution_count": null,
   "metadata": {
    "collapsed": true
   },
   "outputs": [],
   "source": [
    "letra = tkinter.StringVar()\n",
    "entry = tkinter.Entry(textvariable = letra)\n",
    "entry.pack()"
   ]
  },
  {
   "cell_type": "markdown",
   "metadata": {},
   "source": [
    "A continuación pondremos un botón (`Button`) que nos permita obtener el valor de la letra introducida. Como consecuencia de apretar el botón se ejecutará la función `mostrar` que lo que hará será imprimir en el terminal la letra para comprobar que obtiene bien la letra. Nuestra aplicación luego hará más cosas, pero por ahora probaremos con esto."
   ]
  },
  {
   "cell_type": "code",
   "execution_count": null,
   "metadata": {
    "collapsed": true
   },
   "outputs": [],
   "source": [
    "boton = tkinter.Button(text = 'ENTRAR', command = mostrar)\n",
    "boton.pack()"
   ]
  },
  {
   "cell_type": "markdown",
   "metadata": {},
   "source": [
    "La función `mostrar` la definiremos de la siguiente manera:"
   ]
  },
  {
   "cell_type": "code",
   "execution_count": null,
   "metadata": {
    "collapsed": true
   },
   "outputs": [],
   "source": [
    "def mostrar():\n",
    "    print(letra.get())"
   ]
  },
  {
   "cell_type": "markdown",
   "metadata": {},
   "source": [
    "El código de nuestra aplicación hasta ahora se ve de la siguiente manera:"
   ]
  },
  {
   "cell_type": "code",
   "execution_count": null,
   "metadata": {
    "collapsed": true
   },
   "outputs": [],
   "source": [
    "import tkinter\n",
    "\n",
    "ancho = 365\n",
    "alto = 200\n",
    "\n",
    "def mostrar():\n",
    "    print(letra.get())\n",
    "\n",
    "ventana = tkinter.Tk()\n",
    "ventana.title(\"Juego del ahorcado\")\n",
    "\n",
    "imagen = tkinter.PhotoImage(file = 'img1.png')\n",
    "canvas = tkinter.Canvas(ventana, width=ancho, height=alto)\n",
    "canvas.create_image(0,0,image=imagen,anchor=tkinter.NW)\n",
    "canvas.pack()\n",
    "\n",
    "texto = tkinter.Label(text = 'ESTO ES UNA PRUEBA', anchor=tkinter.NW)\n",
    "texto.pack()\n",
    "\n",
    "letra = tkinter.StringVar()\n",
    "entry = tkinter.Entry(textvariable = letra)\n",
    "entry.pack()\n",
    "\n",
    "boton = tkinter.Button(text = 'ENTRAR', command = mostrar)\n",
    "boton.pack()\n",
    "\n",
    "ventana.mainloop()"
   ]
  }
 ],
 "metadata": {
  "kernelspec": {
   "display_name": "Python 2",
   "language": "python",
   "name": "python2"
  },
  "language_info": {
   "codemirror_mode": {
    "name": "ipython",
    "version": 2
   },
   "file_extension": ".py",
   "mimetype": "text/x-python",
   "name": "python",
   "nbconvert_exporter": "python",
   "pygments_lexer": "ipython2",
   "version": "2.7.6"
  }
 },
 "nbformat": 4,
 "nbformat_minor": 0
}
