{
 "metadata": {
  "name": ""
 },
 "nbformat": 3,
 "nbformat_minor": 0,
 "worksheets": [
  {
   "cells": [
    {
     "cell_type": "heading",
     "level": 1,
     "metadata": {
      "slideshow": {
       "slide_type": "slide"
      }
     },
     "source": [
      "Introducci\u00f3n a la programaci\u00f3n con Python"
     ]
    },
    {
     "cell_type": "heading",
     "level": 2,
     "metadata": {
      "slideshow": {
       "slide_type": "-"
      }
     },
     "source": [
      "\u00bfPor qu\u00e9 Python?"
     ]
    },
    {
     "cell_type": "markdown",
     "metadata": {
      "slideshow": {
       "slide_type": "-"
      }
     },
     "source": [
      "<img src=\"files/img/most_popular.png\">"
     ]
    },
    {
     "cell_type": "markdown",
     "metadata": {
      "slideshow": {
       "slide_type": "slide"
      }
     },
     "source": [
      "Motivos por los que hemos elegido Python:\n",
      "\n",
      "* Es gratis: es software de codigo abierto\n",
      "* Es f\u00e1cil de aprender: tiene una sintaxis simple\n",
      "* Es f\u00e1cil de leer: no est\u00e1 lleno de signos de puntuaci\u00f3n como otros lenguajes\n",
      "* Es f\u00e1cil de mantener: es modular por simplicidad\n",
      "* Viene con \"bater\u00edas incluidas\": tiene una gran cantidad de bibliotecas que se pueden integrar en nuestros programas\n",
      "* Es interactivo: tiene un terminal donde nos permite probar nuestro c\u00f3digo r\u00e1pidamente\n",
      "* Es multiplataforma: se pueden ejecutar los programas en cualquier plataforma (Windows, Linux, Mac, etc.)\n",
      "* Es interpretado: no necesitamos compilar el c\u00f3digo\n",
      "* Es de alto nivel: controla autom\u00e1ticamente el uso de memoria\n",
      "* Es extensible: permite el agregado de m\u00f3dulos de bajo nivel\n",
      "* Es vers\u00e1til: Admite distintas formas de programaci\u00f3n como programaci\u00f3n funcional u orientada a objetos\n",
      "* Es flexible: puede crear programas de consola, de ventanas, para dispositivos t\u00e1ctiles, aplicaciones web"
     ]
    },
    {
     "cell_type": "markdown",
     "metadata": {
      "slideshow": {
       "slide_type": "slide"
      }
     },
     "source": [
      "<img src=\"files/img/python_ecosystem.svg\">"
     ]
    },
    {
     "cell_type": "heading",
     "level": 1,
     "metadata": {
      "slideshow": {
       "slide_type": "slide"
      }
     },
     "source": [
      "Escribiendo nuestro primer programa"
     ]
    },
    {
     "cell_type": "markdown",
     "metadata": {
      "slideshow": {
       "slide_type": "-"
      }
     },
     "source": [
      "Nuestro primer programa consistir\u00e1 en hacer que imprima la frase \"Hola mundo!\" en el terminal. Esto lo podemos hacer de manera interactiva con una simple instrucci\u00f3n escribiendo en la consola: "
     ]
    },
    {
     "cell_type": "code",
     "collapsed": false,
     "input": [
      "print(\"Hola mundo!\")"
     ],
     "language": "python",
     "metadata": {
      "slideshow": {
       "slide_type": "-"
      }
     },
     "outputs": [
      {
       "output_type": "stream",
       "stream": "stdout",
       "text": [
        "Hola mundo!\n"
       ]
      }
     ],
     "prompt_number": 5
    },
    {
     "cell_type": "markdown",
     "metadata": {
      "slideshow": {
       "slide_type": "subslide"
      }
     },
     "source": [
      "Tambi\u00e9n podemos crear un archivo con el programa y ejecutarlo despu\u00e9s. Para ello escribimos en un archivo de texto, que guardaremos con el nombre hola.py, la misma l\u00ednea de c\u00f3digo. Guardamos el c\u00f3digo y despu\u00e9s ejecutamos la orden:"
     ]
    },
    {
     "cell_type": "markdown",
     "metadata": {
      "slideshow": {
       "slide_type": "-"
      }
     },
     "source": [
      "<img src=\"files/img/hola_00.png\">"
     ]
    },
    {
     "cell_type": "markdown",
     "metadata": {
      "slideshow": {
       "slide_type": "-"
      }
     },
     "source": [
      "Y se podr\u00e1 ejecutar el programa sin necesidad de llamar al int\u00e9rprete?\n",
      "\n",
      "La respuesta es s\u00ed, solo debemos agregar como primera l\u00ednea de c\u00f3digo la siguiente expresi\u00f3n si trabajamos en el sistema operativo Windows:"
     ]
    },
    {
     "cell_type": "code",
     "collapsed": false,
     "input": [
      "#!c:/Python/python.exe"
     ],
     "language": "python",
     "metadata": {
      "slideshow": {
       "slide_type": "-"
      }
     },
     "outputs": [],
     "prompt_number": 7
    },
    {
     "cell_type": "markdown",
     "metadata": {
      "slideshow": {
       "slide_type": "-"
      }
     },
     "source": [
      "Y si trabajamos con Linux o Mac debemos poner:"
     ]
    },
    {
     "cell_type": "code",
     "collapsed": false,
     "input": [
      "#!/usr/bin/python"
     ],
     "language": "python",
     "metadata": {
      "slideshow": {
       "slide_type": "-"
      }
     },
     "outputs": [],
     "prompt_number": 9
    },
    {
     "cell_type": "markdown",
     "metadata": {
      "slideshow": {
       "slide_type": "-"
      }
     },
     "source": [
      "y adem\u00e1s, en este caso debemos cambiar los permisos del fichero para hacerlo ejecutable."
     ]
    },
    {
     "cell_type": "code",
     "collapsed": false,
     "input": [],
     "language": "python",
     "metadata": {},
     "outputs": []
    }
   ],
   "metadata": {}
  }
 ]
}