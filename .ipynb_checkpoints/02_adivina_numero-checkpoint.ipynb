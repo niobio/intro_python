{
 "cells": [
  {
   "cell_type": "markdown",
   "metadata": {},
   "source": [
    "# Juego \"Adivina el número\""
   ]
  },
  {
   "cell_type": "markdown",
   "metadata": {},
   "source": [
    "En este pequeño proyecto crearemos el juego de descubrir un número secreto. El ordenador piensa un número y nosotros tenemos que adivinarlo.\n",
    "\n",
    "Los conceptos que veremos son:\n",
    "- Función **`input()`**.\n",
    "- Función **`print()`**.\n",
    "- Importación de módulos\n",
    "- Función de generación de números al azar **`randint()`**\n",
    "- Cómo introducir comentarios en el código.\n",
    "- Estructura de control **`if`**, **`elif`** y **`else`**.\n",
    "- Estructura de control **`while`**."
   ]
  },
  {
   "cell_type": "markdown",
   "metadata": {},
   "source": [
    "## Nuestra primera versión del juego"
   ]
  },
  {
   "cell_type": "markdown",
   "metadata": {},
   "source": [
    "### Importación de módulos y la función `randint`"
   ]
  },
  {
   "cell_type": "markdown",
   "metadata": {},
   "source": [
    "Para comenzar con nuestro proyecto de juego tenemos que conseguir que el ordenador piense un número al azar que guardará en secreto. Supongamos que queremos simular el comportamiento de un dado, que el ordenador arroje un dado \"virtual\" y que el resultado que obtenga lo guarde en secreto. El resultado de arrojar un dado puede dar como resultado seis podibles números: 1, 2, 3, 4, 5 y 6. Nosotros trataremos luego de adivinar cuál de estos seis números ha pensado la máquina.\n",
    "\n",
    "Para obtener número al azar Python tiene una función: **`randint()`**, la cual obtiene números enteros al azar entre dos valores extremos. Por ejemplo, para que nos entregue un número al azar entre 1 y 6 deberíamos poner: **`randint(1,6)`**.\n",
    "\n",
    "La función **`randint`** no viene cargada en Python de manera predeterminada como **`print`** o **`input`**, pero viene incluida en los módulos que trae Python cuando se instala, es decir, viene en su **biblioteca estándar**. La biblioteca estándar es un conjunto de módulos disponibles para usar pero que solo se cargan en memoria si nosotros los cargamos al ejecutar nuestro código. \n",
    "\n",
    "¿Cómo se hace?\n",
    "\n",
    "Veamos como ejemplo como cargar el módulo que contiene nuestra función randint. La función randint viene desntro de un módulo llamado **`random`**, que quiere decir aleatorio an inglés. Para cargar un módulo en Python debemos usar la sentencia **`import`**, así, si queremos cargar o, dicho de manera más apropiada, importar el módulo random debemos poner:"
   ]
  },
  {
   "cell_type": "code",
   "execution_count": 1,
   "metadata": {
    "collapsed": false
   },
   "outputs": [],
   "source": [
    "import random"
   ]
  },
  {
   "cell_type": "markdown",
   "metadata": {},
   "source": [
    "De esta manera ya tenemos disponibles para usar todas las funciones que vienen incluidas en el módulo random.\n",
    "\n",
    "Si queremos usar ahora nuestra función randint tenemos que invocarla aclarando que pertenece al módulo random. Eso se hace con una convención de nombres separados por puntos, por ejemplo:"
   ]
  },
  {
   "cell_type": "code",
   "execution_count": 2,
   "metadata": {
    "collapsed": false
   },
   "outputs": [
    {
     "data": {
      "text/plain": [
       "3"
      ]
     },
     "execution_count": 2,
     "metadata": {},
     "output_type": "execute_result"
    }
   ],
   "source": [
    "random.randint(1,6)"
   ]
  },
  {
   "cell_type": "markdown",
   "metadata": {},
   "source": [
    "Aquí hemos obtenido un número al azar entre 1 y 6. Pero este número el ordenador no lo recordará si no le decimos que lo guarde en su memoria. \n",
    "\n",
    "Para guardar valores en la memoria se usan las **variables**. Las variables son como cajitas donde se pueden guardar objetos para poder más tarde recuperarlos. Para poder recuperarlos debemos ponerle etiquetas a las cajitas, serán los nombres de nuestras variables. Por ejemplo, podemos guardar nuestro número al azar en una variable llamada `secret`, eso lo hacemos escribiendo el código de la siguiente manera:"
   ]
  },
  {
   "cell_type": "code",
   "execution_count": 3,
   "metadata": {
    "collapsed": false
   },
   "outputs": [],
   "source": [
    "secret = random.randint(1,6)"
   ]
  },
  {
   "cell_type": "markdown",
   "metadata": {},
   "source": [
    "Si queremos ver o usar el valor que contiene la variable `secret` solo debemos invocarla por su nombre."
   ]
  },
  {
   "cell_type": "code",
   "execution_count": 4,
   "metadata": {
    "collapsed": false
   },
   "outputs": [
    {
     "data": {
      "text/plain": [
       "3"
      ]
     },
     "execution_count": 4,
     "metadata": {},
     "output_type": "execute_result"
    }
   ],
   "source": [
    "secret"
   ]
  },
  {
   "cell_type": "markdown",
   "metadata": {},
   "source": [
    "Ahora que ya sabemos como hacer para lanzar un dado y guardar su resultado, pediremos al usuario que adivine el número introduciéndolo a través del teclado. Ya sabemos que para introducir un valor mediante el teclado debemos usar la sentencia `input`. Pediremos que el usuario introduzca el valor y lo guardaremos en una variable llamada `apuesta`, para ello usaremos el código de abajo."
   ]
  },
  {
   "cell_type": "code",
   "execution_count": 7,
   "metadata": {
    "collapsed": false
   },
   "outputs": [
    {
     "name": "stdout",
     "output_type": "stream",
     "text": [
      "Escribe un número de 1 a 6: 4\n"
     ]
    }
   ],
   "source": [
    "apuesta = input(\"Escribe un número de 1 a 6: \")"
   ]
  },
  {
   "cell_type": "markdown",
   "metadata": {},
   "source": [
    "Yo introduje el número 4, podemos comprobar que el número fue guardado en la variable `num`, invocando la variable:"
   ]
  },
  {
   "cell_type": "code",
   "execution_count": 8,
   "metadata": {
    "collapsed": false
   },
   "outputs": [
    {
     "data": {
      "text/plain": [
       "4"
      ]
     },
     "execution_count": 8,
     "metadata": {},
     "output_type": "execute_result"
    }
   ],
   "source": [
    "apuesta"
   ]
  },
  {
   "cell_type": "markdown",
   "metadata": {},
   "source": [
    "Ya conseguimos que el ordenador guarde en memoria dos números, el que salió al azar y la apuesta del usuario. Ahora deberíamos hacer que el ordenador compare los números para saber si son iguales o no."
   ]
  },
  {
   "cell_type": "markdown",
   "metadata": {},
   "source": [
    "### Tomas de decisión: la estructura de control `if` y `else`"
   ]
  },
  {
   "cell_type": "markdown",
   "metadata": {},
   "source": [
    "Para decidir si los números son iguales o no usaremos la estructura de control `if` y `else` que permitirá ejecutar un bloque de código si se cumple una determinada condición o ejecutar otro bloque si esa condición no se cumple. Veamos como usarla en nuestro caso:"
   ]
  },
  {
   "cell_type": "code",
   "execution_count": 10,
   "metadata": {
    "collapsed": false
   },
   "outputs": [
    {
     "name": "stdout",
     "output_type": "stream",
     "text": [
      "Has perdido :-(\n"
     ]
    }
   ],
   "source": [
    "if apuesta == secret:\n",
    "    print(\"Has acertado!\")\n",
    "else:\n",
    "    print(\"Has perdido :-(\")"
   ]
  },
  {
   "cell_type": "markdown",
   "metadata": {},
   "source": [
    "Lo que hace la estructura `if` es comparar mediante el operador `==` que mira si la expresión a uno y al otro lado son iguales. Si son iguales se ejecuta el código que le sigue (observar que el código debe ir indentado), si la condición no se cumple, es decir, si no son iguales se ejecuta el bloque de código que aparece debajo de `else`."
   ]
  },
  {
   "cell_type": "markdown",
   "metadata": {},
   "source": [
    "<div style=\"border:1px solid black;padding:2em;\">**Nota**: Es importante observar la diferencia entre el signo `\"=\"` que hemos usado para definir una variable y el signo `\"==\"`. Este último sirve para comparar dos cosas, si son iguales arrojará como resultado `True` (verdad) y si son distintas dará como resultado `False` (falso). En ese sentido éste sería el equivalente al signo igual que usamos en matemáticas para las ecuaciones. El signo `=` en cambio, es un operador de asignación, lo que hace es asignar un valor a una variable.</div>"
   ]
  },
  {
   "cell_type": "markdown",
   "metadata": {},
   "source": [
    "### Poniendo todo junto con comentarios incluidos"
   ]
  },
  {
   "cell_type": "markdown",
   "metadata": {},
   "source": [
    "Veamos como quedaría nuestro código si ponemos todo lo que hemos visto junto en un único listado. Aprovecharemos para documentarlo incluyando algunos comentarios que nos permitan entender mejor que hace cada línea de código. El problema cuando agregamos líneas de código a nuestro listado que no se corresponden con el lenguaje Python es que nuestro intérprete lo considerará como código mal escrito y nos dirá que hay errores de sintáxis. Para evitarlo debemos dejarle claro al intérprete qué líneas deben ignorarse al ejecutar el código considerándolas como comentarios.\n",
    "\n",
    "Hay dos forma de escribir comentarios en Python:\n",
    "1. **Comentarios de una línea**: Para ello debemos comenzar la línea con el símbolo `#`. Todo el texto que siga a continuación será ignorado por el intérprete.\n",
    "2. **Comentarios multilínea**: El comentario debe comenzar con triple comillas `'''` y se debe cerrar con otras triple comillas. Todas los renglones que se encuentren entre ellas serán ignoradas por el intérprete."
   ]
  },
  {
   "cell_type": "code",
   "execution_count": 11,
   "metadata": {
    "collapsed": false
   },
   "outputs": [],
   "source": [
    "# Este es un comentario de una línea"
   ]
  },
  {
   "cell_type": "code",
   "execution_count": 14,
   "metadata": {
    "collapsed": false
   },
   "outputs": [
    {
     "data": {
      "text/plain": [
       "' \\nEste\\nes un comentario\\nmultilinea\\n'"
      ]
     },
     "execution_count": 14,
     "metadata": {},
     "output_type": "execute_result"
    }
   ],
   "source": [
    "''' \n",
    "Este\n",
    "es un comentario\n",
    "multilinea\n",
    "'''"
   ]
  },
  {
   "cell_type": "markdown",
   "metadata": {},
   "source": [
    "Escribamos ahora nuestro código completo incluyendo algunos comentarios."
   ]
  },
  {
   "cell_type": "code",
   "execution_count": 4,
   "metadata": {
    "collapsed": false
   },
   "outputs": [
    {
     "name": "stdout",
     "output_type": "stream",
     "text": [
      "Jugaremos al juego de adivinar un numero\n",
      "Escribe un número de 1 a 6: 4\n",
      "Has perdido :-(\n"
     ]
    }
   ],
   "source": [
    "# Programa Adivina el número\n",
    "'''Las importaciones de módulos es lo primero\n",
    "que debemos hacer. En este caso importamos el \n",
    "módulo random'''\n",
    "import random\n",
    "print(\"Jugaremos al juego de adivinar un numero\")   # Presenta el juego al usuario\n",
    "secret = random.randint(1,6)                        # Guardamos el número al azar en la variable secret\n",
    "apuesta = input(\"Escribe un número de 1 a 6: \")     # Pide al usuario que ingrese un número y lo guarda\n",
    "if apuesta == secret:\n",
    "    print(\"has acertado!\")\n",
    "else:\n",
    "    print(\"Has perdido :-(\")"
   ]
  },
  {
   "cell_type": "markdown",
   "metadata": {},
   "source": [
    "<div style=\"border:1px solid black;padding:2em;\">**Nota**: Si el intérprete se queja porque estás usando acentos en las palabras y te da error, puedes evitarlo incluyendo al principo de todo de tu código la línea:\n",
    "\n",
    "`# -*- coding: utf-8 -*-`"
   ]
  },
  {
   "cell_type": "markdown",
   "metadata": {},
   "source": [
    "En lugar de decirnos solo que hemos perdido podríamos decirle al usuario cuál era el número secreto. Para ello podemos agregar a nuestro código la línea siguiente dentro de la opción `else`:"
   ]
  },
  {
   "cell_type": "code",
   "execution_count": 5,
   "metadata": {
    "collapsed": false
   },
   "outputs": [
    {
     "name": "stdout",
     "output_type": "stream",
     "text": [
      "El número era 3\n"
     ]
    }
   ],
   "source": [
    "print(\"El número era \" + str(secret))"
   ]
  },
  {
   "cell_type": "markdown",
   "metadata": {
    "collapsed": false
   },
   "source": [
    "Nuestra primera versión del juego ya está finalizada!"
   ]
  },
  {
   "cell_type": "markdown",
   "metadata": {},
   "source": [
    "## Mejorando nuestro juego"
   ]
  },
  {
   "cell_type": "markdown",
   "metadata": {},
   "source": [
    "Podemos mejorar nuestro juego si hacemos que nos de más de una oportunidad de adivinar el número brindandonos una ayuda como, por ejemplo, decirnos si nos hemos pasado o si el número que dijimos es muy bajo. Para hacer esto existe una estructura de control muy importante: los **bucles**"
   ]
  },
  {
   "cell_type": "markdown",
   "metadata": {},
   "source": [
    "### Los bucles `while`"
   ]
  },
  {
   "cell_type": "markdown",
   "metadata": {},
   "source": [
    "La sentencia `while` nos permite ejecutar un bloque de código varias veces siempre que se cumpla determinada condición. Podemos hacer que nuestro juego nos permita tener varias vidas usando el `while`. Veamos como funcionaría: "
   ]
  },
  {
   "cell_type": "markdown",
   "metadata": {},
   "source": [
    "Si queremos que se nos permita tener 3 vidas podemos definir una variable llamada vidas que tenga inicalmente el valor 3. Después entraríamos en un buble `while` que evaluará si vidas es mayor que 0, en ese caso se ejecuta el primer lance del juego. Si ganamos nos felicita y el juego termina, pero si perdemos el ordenador nos informa si el valor es demasiado alto o demasiado bajo y nos dice que nos quedan dos vidas, permitiéndonos volver a jugar. El juego debe descontar una vida en cada lance, esto lo hace restando 1 a la variable vidas en cada pase. \n",
    "\n",
    "Veamos una primera simulación sencilla de como funciona el bucle `while`: "
   ]
  },
  {
   "cell_type": "code",
   "execution_count": 9,
   "metadata": {
    "collapsed": false
   },
   "outputs": [
    {
     "name": "stdout",
     "output_type": "stream",
     "text": [
      "Esta es la vida 3\n",
      "Esta es la vida 2\n",
      "Esta es la vida 1\n",
      "Ya no quedan más vidas\n"
     ]
    }
   ],
   "source": [
    "vidas = 3\n",
    "while vidas > 0:\n",
    "    print(\"Esta es la vida \" + str(vidas))\n",
    "    vidas = vidas - 1\n",
    "print (\"Ya no quedan más vidas\")"
   ]
  },
  {
   "cell_type": "markdown",
   "metadata": {},
   "source": [
    "Vemos en este ejemplo como funciona el bucle. Inicialmente la variable `vidas` tiene el valor 3 y cuando entra en el bucle `while` éste mira que sea mayor que 0, lo cual es verdad por lo que se ejecuta el código dentro del bloque `while`, esto es, se imprime la frase \"Esta es la vida 3\". A continuación se le resta una unidad a la variable `vidas`, quedando su valor en 2, cuando `while` vuelve a mirar si se cuample la condición de que `vidas` sea mayor que 0, como esta condición se verifica vuelve a imprimir el texto pero ahora con el valor 2. Todo se repite hasta que `vidas` alcanza el valor 0 y la condición ya no se cumple, en este caso sale del bucle y se ejecuta la última línea del código (observar que está fuera del bloque `while` porque no está indentada).\n",
    "\n",
    "Intentemos usar este esquema en nuestro juego. El código de nuestro juego mejorado quedará:"
   ]
  },
  {
   "cell_type": "code",
   "execution_count": 16,
   "metadata": {
    "collapsed": false
   },
   "outputs": [
    {
     "name": "stdout",
     "output_type": "stream",
     "text": [
      "Jugaremos al juego de adivinar un numero\n",
      "Te quedan 3 vidas\n",
      "Escribe un número de 1 a 6: 1\n",
      "Demasiado bajo, vuelve a intentarlo\n",
      "Te quedan 2 vidas\n",
      "Escribe un número de 1 a 6: 5\n",
      "Demasiado alto, vuelve a intentarlo\n",
      "Te quedan 1 vidas\n",
      "Escribe un número de 1 a 6: 3\n",
      "Has acertado!\n"
     ]
    }
   ],
   "source": [
    "# Programa Adivina el número\n",
    "'''Las importaciones de módulos es lo primero\n",
    "que debemos hacer. En este caso importamos el \n",
    "módulo random'''\n",
    "import random\n",
    "print(\"Jugaremos al juego de adivinar un numero\")   # Presenta el juego al usuario\n",
    "secret = random.randint(1,6)                        # Guardamos el número al azar en la variable secret\n",
    "vidas = 3\n",
    "while vidas > 0:\n",
    "    print(\"Te quedan \" + str(vidas) + \" vidas\")\n",
    "    apuesta = input(\"Escribe un número de 1 a 6: \")     # Pide al usuario que ingrese un número y lo guarda\n",
    "    if apuesta > secret:\n",
    "        print(\"Demasiado alto, vuelve a intentarlo\")\n",
    "        vidas = vidas - 1\n",
    "    elif apuesta < secret:\n",
    "        print(\"Demasiado bajo, vuelve a intentarlo\")\n",
    "        vidas = vidas - 1\n",
    "    elif apuesta == secret:\n",
    "        print(\"Has acertado!\")\n",
    "        break\n",
    "if vidas == 0:\n",
    "    print(\"Ya no te quedan vidas. El número era \" + str(secret))"
   ]
  },
  {
   "cell_type": "markdown",
   "metadata": {},
   "source": [
    "<div style=\"border:1px solid black;padding:2em;\">**Ejercicio**: El código que aparece arriba funciona pero los mensajes que aparecen a veces son erroneos. ¿Te animas a corregir ese error?"
   ]
  },
  {
   "cell_type": "markdown",
   "metadata": {},
   "source": [
    "Para evitar que el bucle se vuelva a ejecutar cuando el usuario acierta se usa la sentancia `break` que lo que hace es parar la ejecución del programa."
   ]
  }
 ],
 "metadata": {
  "kernelspec": {
   "display_name": "Python 2",
   "language": "python",
   "name": "python2"
  },
  "language_info": {
   "codemirror_mode": {
    "name": "ipython",
    "version": 2
   },
   "file_extension": ".py",
   "mimetype": "text/x-python",
   "name": "python",
   "nbconvert_exporter": "python",
   "pygments_lexer": "ipython2",
   "version": "2.7.6"
  }
 },
 "nbformat": 4,
 "nbformat_minor": 0
}
