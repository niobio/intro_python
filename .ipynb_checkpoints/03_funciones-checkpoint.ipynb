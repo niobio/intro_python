{
 "cells": [
  {
   "cell_type": "markdown",
   "metadata": {},
   "source": [
    "# Funciones (empaquetando código)"
   ]
  },
  {
   "cell_type": "markdown",
   "metadata": {},
   "source": [
    "En lo que hemos visto hasta ahora de programación hemos estado usando las funciones sin saber qué eran, ahora es momento de descubrir qués son, como nos podemos beneficiar de ellas y como podemos crear nuestras propias funciones.\n",
    "\n",
    "Podemos interpretar una función como una especie de fábrica a la cual nosotros proveemos de materias primas y de la cual obtenemos productos procesados. En nuestro caso la función recibe variables como argumentos y nos retorna otras variables o realiza acciones en las que son utilizadas las variables iniciales."
   ]
  },
  {
   "cell_type": "markdown",
   "metadata": {},
   "source": [
    "<img src=\"./03_funciones_files/factory.png\" width=600>"
   ]
  },
  {
   "cell_type": "markdown",
   "metadata": {},
   "source": [
    "Las funciones que hemos estado usando hasta ahora eran funciones que venían con Python, como por ejemplo `print` que recibe como argumento una variable o un texto y realiza la acción de imprimir su valor en pantalla.\n",
    "\n",
    "La ventaja que tienen las funciones es que las podemos usar llamándolas por su nombre y no tenemos necesidad de saber como funcionan internamente para usarla. Es un poco como los coches, no necesitamos saber como funciona internamente el motor para conducirlos. Esto hace que el código sea fácilmente reutilizable.\n",
    "\n",
    "A veces las funciones no vienen ya cargadas \"de serie\" con Python, pero vienen con la biblioteca estándar que acompaña a Python, entonces, para usarla solamente debemos cargar el módulo de la biblioteca que la contiene. Esto pasa con la función `randint` del módulo `random`, importamos la función a través del módulo.\n",
    "\n",
    "Podemos conocer los módulos y funciones de la biblioteca estándar a través de la documentación oficial que encontrarás en: [https://docs.python.org/3.5/library/](https://docs.python.org/3.5/library/)\n",
    "\n",
    "Podemos dar un paso más y crear nuestras propias funciones, eso es lo que explicaremos a continuación. Veamos un ejemplo creando una función que nos permita convertir euros en dólares. Supongamos que el valor de cambio sea de 1.10 dólares por euro. Crearemos una funcion llamada `conversor` que reciba como argumento la cantidad en euros y nos entregue el valor equivalente en dólares. La sintaxis sería algo así:"
   ]
  },
  {
   "cell_type": "code",
   "execution_count": 4,
   "metadata": {
    "collapsed": true
   },
   "outputs": [],
   "source": [
    "def conversor(euros):\n",
    "    dolares = 1.10 * euros\n",
    "    return dolares"
   ]
  },
  {
   "cell_type": "markdown",
   "metadata": {},
   "source": [
    "Todas las funciones se definen respetando la misma estructura. La palabra `def`viene de definición, ya que con este código lo que estamos haciendo es definir la función, aunque todavía no la estamos utilizando. Luego se pone el nombre de la función y los parámetros que recibe como argumento separados con comas. La función de nuestro ejemplo solo recibe un argumento que corresponde al valor en euros a través de la variable `euros`. Notar los dos puntos al finalizar la línea (olvidarlos es fuente de muchos errores de sintaxis). Todo el código que pertenece a la función deberá ir indentado (sangrado) para indicar que pertenece a la función. La función acaba con la palabra `return` y las variables que entrega como resultado, en nuestro caso el valor en dólares a través de la variable `dolares` (notar que las variables no pueden ir acentuadas).\n",
    "\n",
    "Para probar nuestro código veremos a cuántos dólares corresponden 200 euros llamando a la función como sigue:"
   ]
  },
  {
   "cell_type": "code",
   "execution_count": 5,
   "metadata": {
    "collapsed": false
   },
   "outputs": [
    {
     "data": {
      "text/plain": [
       "220.00000000000003"
      ]
     },
     "execution_count": 5,
     "metadata": {},
     "output_type": "execute_result"
    }
   ],
   "source": [
    "conversor(200)"
   ]
  },
  {
   "cell_type": "markdown",
   "metadata": {},
   "source": [
    "De esta manera quien quiera usar la función no necesita saber cómo está hecha, sencillamente debe llamarla pasándole el valor en auros para obtener el valor en dólares. Esta acción de ocultar el código en programación se llama **encapsulamiento**."
   ]
  },
  {
   "cell_type": "markdown",
   "metadata": {},
   "source": [
    " >**Ejercicios**:\n",
    " 1. Crea una función que convierta la velocidad dada en km/h en m/s.\n",
    " 2. Crea una función que convierta grados Fharenheit en grados Celsius.\n",
    " 3. Crea una función que calcule la hipotenusa de un triángulo rectángulo usando como argumentos los valores de los dos catetos.\n",
    " 4. Escribe una función de calcule la media (promedio aritmético) de 3 valores.\n",
    " 5. Escribe una función que calcule el precio de venta al público (PVP) a partir de su valor y el porcentaje de IVA."
   ]
  },
  {
   "cell_type": "markdown",
   "metadata": {},
   "source": [
    "## Una función para encontrar números primos"
   ]
  },
  {
   "cell_type": "code",
   "execution_count": 8,
   "metadata": {
    "collapsed": true
   },
   "outputs": [],
   "source": [
    "def esPrimo(num):\n",
    "    primo = True\n",
    "    for i in range(2,num):\n",
    "        if num % i == 0:\n",
    "            print str(num) + \" es divisible por \" + str(i)\n",
    "            primo = False\n",
    "    if primo == True:\n",
    "        print str(num) + \" es primo\""
   ]
  },
  {
   "cell_type": "code",
   "execution_count": null,
   "metadata": {
    "collapsed": false
   },
   "outputs": [
    {
     "name": "stdout",
     "output_type": "stream",
     "text": [
      "100945367 es divisible por 23\n",
      "100945367 es divisible por 529\n",
      "100945367 es divisible por 190823\n",
      "100945367 es divisible por 4388929\n"
     ]
    }
   ],
   "source": [
    "esPrimo(100945367)"
   ]
  },
  {
   "cell_type": "code",
   "execution_count": 10,
   "metadata": {
    "collapsed": false
   },
   "outputs": [
    {
     "name": "stdout",
     "output_type": "stream",
     "text": [
      "67 es primo\n"
     ]
    }
   ],
   "source": [
    "esPrimo(67)"
   ]
  },
  {
   "cell_type": "code",
   "execution_count": 6,
   "metadata": {
    "collapsed": false
   },
   "outputs": [
    {
     "name": "stdout",
     "output_type": "stream",
     "text": [
      "113 es primo\n"
     ]
    }
   ],
   "source": [
    "esPrimo(113)"
   ]
  },
  {
   "cell_type": "markdown",
   "metadata": {},
   "source": [
    ">**Ejercicio**:\n",
    "1. Escribe una función que encuentre el siguiente número primo a un número dado."
   ]
  }
 ],
 "metadata": {
  "kernelspec": {
   "display_name": "Python 2",
   "language": "python",
   "name": "python2"
  },
  "language_info": {
   "codemirror_mode": {
    "name": "ipython",
    "version": 2
   },
   "file_extension": ".py",
   "mimetype": "text/x-python",
   "name": "python",
   "nbconvert_exporter": "python",
   "pygments_lexer": "ipython2",
   "version": "2.7.6"
  }
 },
 "nbformat": 4,
 "nbformat_minor": 0
}
