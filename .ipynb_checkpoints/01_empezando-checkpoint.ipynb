{
 "cells": [
  {
   "cell_type": "markdown",
   "metadata": {
    "slideshow": {
     "slide_type": "slide"
    }
   },
   "source": [
    "# Introducción a la programación con Python"
   ]
  },
  {
   "cell_type": "markdown",
   "metadata": {
    "slideshow": {
     "slide_type": "-"
    }
   },
   "source": [
    "## ¿Por qué Python?"
   ]
  },
  {
   "cell_type": "markdown",
   "metadata": {
    "slideshow": {
     "slide_type": "-"
    }
   },
   "source": [
    "<img src=\"files/01_empezando_files/most_popular.png\">"
   ]
  },
  {
   "cell_type": "markdown",
   "metadata": {
    "slideshow": {
     "slide_type": "slide"
    }
   },
   "source": [
    "Motivos por los que hemos elegido Python:\n",
    "\n",
    "* Es gratis: es software de codigo abierto\n",
    "* Es fácil de aprender: tiene una sintaxis simple\n",
    "* Es fácil de leer: no está lleno de signos de puntuación como otros lenguajes\n",
    "* Es fácil de mantener: es modular por simplicidad\n",
    "* Viene con \"baterías incluidas\": tiene una gran cantidad de bibliotecas que se pueden integrar en nuestros programas\n",
    "* Es interactivo: tiene un terminal donde nos permite probar nuestro código rápidamente\n",
    "* Es multiplataforma: se pueden ejecutar los programas en cualquier plataforma (Windows, Linux, Mac, etc.)\n",
    "* Es interpretado: no necesitamos compilar el código\n",
    "* Es de alto nivel: controla automáticamente el uso de memoria\n",
    "* Es extensible: permite el agregado de módulos de bajo nivel\n",
    "* Es versátil: Admite distintas formas de programación como programación funcional u orientada a objetos\n",
    "* Es flexible: puede crear programas de consola, de ventanas, para dispositivos táctiles, aplicaciones web"
   ]
  },
  {
   "cell_type": "markdown",
   "metadata": {
    "slideshow": {
     "slide_type": "slide"
    }
   },
   "source": [
    "<img src=\"files/01_empezando_files/python_ecosystem.svg\">"
   ]
  },
  {
   "cell_type": "markdown",
   "metadata": {
    "slideshow": {
     "slide_type": "slide"
    }
   },
   "source": [
    "# Escribiendo nuestro primer programa"
   ]
  },
  {
   "cell_type": "markdown",
   "metadata": {
    "slideshow": {
     "slide_type": "-"
    }
   },
   "source": [
    "Nuestro primer programa consistirá en hacer que imprima la frase \"Hola mundo!\" en el terminal. Esto lo podemos hacer de manera interactiva con una simple instrucción escribiendo en la consola: "
   ]
  },
  {
   "cell_type": "code",
   "execution_count": 5,
   "metadata": {
    "collapsed": false,
    "slideshow": {
     "slide_type": "-"
    }
   },
   "outputs": [
    {
     "name": "stdout",
     "output_type": "stream",
     "text": [
      "Hola mundo!\n"
     ]
    }
   ],
   "source": [
    "print(\"Hola mundo!\")"
   ]
  },
  {
   "cell_type": "markdown",
   "metadata": {
    "slideshow": {
     "slide_type": "subslide"
    }
   },
   "source": [
    "También podemos crear un archivo con el programa y ejecutarlo después. Para ello escribimos en un archivo de texto, que guardaremos con el nombre hola.py, la misma línea de código. Guardamos el código y después ejecutamos la orden:"
   ]
  },
  {
   "cell_type": "markdown",
   "metadata": {
    "slideshow": {
     "slide_type": "-"
    }
   },
   "source": [
    "<img src=\"files/01_empezando_files/hola_00.png\">"
   ]
  },
  {
   "cell_type": "markdown",
   "metadata": {
    "slideshow": {
     "slide_type": "-"
    }
   },
   "source": [
    "Y se podrá ejecutar el programa sin necesidad de llamar al intérprete?\n",
    "\n",
    "La respuesta es sí, solo debemos agregar como primera línea de código la siguiente expresión si trabajamos en el sistema operativo Windows:"
   ]
  },
  {
   "cell_type": "code",
   "execution_count": 7,
   "metadata": {
    "collapsed": false,
    "slideshow": {
     "slide_type": "-"
    }
   },
   "outputs": [],
   "source": [
    "#!c:/Python/python.exe"
   ]
  },
  {
   "cell_type": "markdown",
   "metadata": {
    "slideshow": {
     "slide_type": "-"
    }
   },
   "source": [
    "Y si trabajamos con Linux o Mac debemos poner:"
   ]
  },
  {
   "cell_type": "code",
   "execution_count": 9,
   "metadata": {
    "collapsed": false,
    "slideshow": {
     "slide_type": "-"
    }
   },
   "outputs": [],
   "source": [
    "#!/usr/bin/python"
   ]
  },
  {
   "cell_type": "markdown",
   "metadata": {
    "slideshow": {
     "slide_type": "-"
    }
   },
   "source": [
    "y además, en este caso debemos cambiar los permisos del fichero para hacerlo ejecutable."
   ]
  },
  {
   "cell_type": "code",
   "execution_count": null,
   "metadata": {
    "collapsed": false
   },
   "outputs": [],
   "source": []
  }
 ],
 "metadata": {
  "kernelspec": {
   "display_name": "Python 2",
   "language": "python",
   "name": "python2"
  },
  "language_info": {
   "codemirror_mode": {
    "name": "ipython",
    "version": 2
   },
   "file_extension": ".py",
   "mimetype": "text/x-python",
   "name": "python",
   "nbconvert_exporter": "python",
   "pygments_lexer": "ipython2",
   "version": "2.7.6"
  }
 },
 "nbformat": 4,
 "nbformat_minor": 0
}
