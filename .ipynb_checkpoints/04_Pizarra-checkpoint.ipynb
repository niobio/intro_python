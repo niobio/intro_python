{
 "cells": [
  {
   "cell_type": "markdown",
   "metadata": {},
   "source": [
    "# Projecto: Pizarra mágica"
   ]
  },
  {
   "cell_type": "markdown",
   "metadata": {},
   "source": [
    "En este projecto aprenderemos:\n",
    "* cómo usar la biblioteca gráfica Tkinter\n",
    "* poner una aplicación dentro de su propia ventana.\n",
    "* asociar funciones a la teclas del teclado."
   ]
  },
  {
   "cell_type": "markdown",
   "metadata": {},
   "source": [
    "## La biblioteca `tkinter`"
   ]
  },
  {
   "cell_type": "markdown",
   "metadata": {},
   "source": [
    "Para comenzar abriremos nuestro editor y empezaremos nuestro proyecto llamando a nustro archivo con el nombre `pizarra.py` y lo guardamos.\n",
    "\n",
    "Comenzaremos ahora a escribir nuestro código. Ya hemos visto que para usar algunas funciones o conjunto de funciones debemos importar los módulos que las contienen. Así hemos usado anteriormente el módulo `random`. En este proyecto importaremos una biblioteca completa de módulos que nos darán acceso a funciones gráficas, con la posibilidad de crear ventanas o un lienzo donde pintar encima.\n",
    "\n",
    "Como se trata de un conjunto de módulos, los importaremos todos haciendo:"
   ]
  },
  {
   "cell_type": "code",
   "execution_count": null,
   "metadata": {
    "collapsed": false
   },
   "outputs": [],
   "source": [
    "import tkinter"
   ]
  },
  {
   "cell_type": "markdown",
   "metadata": {},
   "source": [
    "`tkinter` es toda una biblioteca que contiene muchos módulos para crear aplicaciones gráfica, conocidas como GUI (*Graphical User Interface* o Interfaz Gráfica de Usuario).\n",
    "\n",
    "Lo primero que haremos es crear una ventana de 600 píxeles (puntos en la pantalla) de ancho y 400 píxeles de alto con un lienzo (canvas) donde podamos dibujar. En nuestro caso el canvas es negro. \n",
    "\n",
    "A continuación tenemos el código necesario para crear la ventana con el canvas."
   ]
  },
  {
   "cell_type": "code",
   "execution_count": null,
   "metadata": {
    "collapsed": false
   },
   "outputs": [],
   "source": [
    "# pizarra.py\n",
    "\n",
    "import tkinter\n",
    "\n",
    "##### Fijamos las variables:\n",
    "canvas_height = 400\n",
    "canvas_width = 600\n",
    "canvas_colour = \"black\"\n",
    "\n",
    "##### main:\n",
    "window = tkinter.Tk()        # Creamos la ventana\n",
    "window.title(\"Mi Pizarra\")   # Ponemos el título a la ventana\n",
    "# Ponemos el canvas\n",
    "canvas = tkinter.Canvas(bg=canvas_colour, height=canvas_height, width=canvas_width, highlightthickness=0)\n",
    "# Todos los widgets que pongamos tendremos que empaquetarlo con el método pack\n",
    "canvas.pack()\n",
    "\n",
    "# Para evitar que la ventana se cierre una vez creada debemos entrar en el mainloop (bucle principal)\n",
    "window.mainloop() "
   ]
  },
  {
   "cell_type": "markdown",
   "metadata": {},
   "source": [
    "Puedes ejecutar el programa `pizarra.py` y comprobar que la ventana se abra y se mantiene abierta. Aun no podemos hacer nada con la ventana pero podemos decir que ¡ya tenemos nuestro primer programa gráfico!\n",
    "\n",
    "También puedes notar que la consola de Python nos entrega mensajes, entre ellos los posibles errores, que nos permitirán corregir los problemas que puedan aparecer en nuestra aplicación.\n",
    "\n",
    "Analizando el código podemos ver que para crear la ventana usamos el método `tkinter.Tk()`. Los elementos gráficos que pongamos dentro de la ventana los llamaremos \"**widgets**\", en este caso el widget que pondremos es el **canvas**. Todos los widgets deben empaquetarse con el método **`pack()`**, esto lo que hace es ubicar el widget dento de la ventana. Luego, para hacer que la ventana continue abierta y no se cierre una vez creada debemos ponerla en un bucle infinito, esto lo hacemos poniéndola en el **`mainloop()`**. "
   ]
  },
  {
   "cell_type": "markdown",
   "metadata": {},
   "source": [
    "## Planificando el resto de la aplicación"
   ]
  },
  {
   "cell_type": "markdown",
   "metadata": {},
   "source": [
    "Ahora que tenemos ya la ventana y el canvas vamos a planificar el resto de la aplicación. Para hacerlo vamos a separar todo lo que tiene que hacer nuestra aplicación en pequeñas tareas sencillas. Esto es muy importante en programación: **partir las tareas en tareas más sencillas** de esta manera será más fácil para nosotros hacer nuestra aplicación y luego mantenerla. Para separar todo en pequeñas tareas nada mejor que una herramienta que ya conocemos: ** las funciones**.\n",
    "\n",
    "Para comenzar, debemos ser capaces de dibujar una línea vertical y también una línea horizontal. Todo esto lo controlaremos usando las teclas del teclado y, para ello suena razonable usar 4 funciones que se encarguen de hacerlo. Todas las funciones tendrán asociada una tecla que se encargará de la tarea y todas tendrán características similares. Crearemos una de las funciones de ejemplo y luego te quedará la tarea de crear las otras para completar el proyecto."
   ]
  },
  {
   "cell_type": "markdown",
   "metadata": {},
   "source": [
    "## Las coordenadas"
   ]
  },
  {
   "cell_type": "markdown",
   "metadata": {},
   "source": [
    "A diferencia de las matemáticas, la forma de contar las coordenadas en programación es de izquierda a derecha y de arriba hacia abajo (aquí es al revés de las mates). El canvas funciona como se ve abajo:"
   ]
  },
  {
   "cell_type": "markdown",
   "metadata": {},
   "source": [
    "<img src='04_Pizarra_files/canvas.svg'>"
   ]
  },
  {
   "cell_type": "markdown",
   "metadata": {},
   "source": [
    "Por lo que cualquier punto en la pantalla se representa por un par de números: por ejemplo (100, 50) que corresponde a 100 píxeles a la derecha en dirección del eje x y 50 píxeles hacia abajo en la dirección del eje y."
   ]
  },
  {
   "cell_type": "markdown",
   "metadata": {},
   "source": [
    "## Organizando el código"
   ]
  },
  {
   "cell_type": "markdown",
   "metadata": {},
   "source": [
    "La función para dibujar una línea vertical necesita algunas variables que deberemos declarar y definir junto al resto de las variables que ya tenemos definidas en nuestro código. Una práctica sana de programación es declarar las variables al principio de nuestro código. Esto constituye un buen estilo de codificación, ya que si queremos encontrar una variable en nuestro código ya sabemos donde buscarla. Elegir nombres descriptivos para las variables también ayuda a identificarlas.\n",
    "\n",
    "Las funciones vendrán a continuación, antes de la sección principal (main) que ejecuta la aplicación. De esta manera nuestro código queda ordenado. Añadiendo estas cosas nuestro código queda:"
   ]
  },
  {
   "cell_type": "code",
   "execution_count": null,
   "metadata": {
    "collapsed": false
   },
   "outputs": [],
   "source": [
    "# pizarra.py\n",
    "\n",
    "import tkinter\n",
    "\n",
    "##### Fijamos las variables:\n",
    "canvas_height = 400\n",
    "canvas_width = 600\n",
    "canvas_colour = \"black\"\n",
    "p1_x = canvas_width/2\n",
    "p1_y = canvas_height\n",
    "p1_colour = \"green\"\n",
    "line_width = 5\n",
    "line_length = 5\n",
    "\n",
    "##### Funciones:\n",
    "# control con teclas\n",
    "def p1_mover_N(self):\n",
    "    global p1_y\n",
    "    canvas.create_line(p1_x, p1_y, p1_x, (p1_y-line_length), width=line_width, fill=p1_colour)\n",
    "    p1_y = p1_y - line_length\n",
    "\n",
    "\n",
    "##### main:\n",
    "window = tkinter.Tk()        # Creamos la ventana\n",
    "window.title(\"Mi Pizarra\")   # Ponemos el título a la ventana\n",
    "# Ponemos el canvas\n",
    "canvas = tkinter.Canvas(bg=canvas_colour, height=canvas_height, width=canvas_width, highlightthickness=0)\n",
    "# Todos los widgets que pongamos tendremos que empaquetarlo con el método pack\n",
    "canvas.pack()\n",
    "\n",
    "# Para evitar que la ventana se cierre una vez creada debemos entrar en el mainloop (bucle principal)\n",
    "window.mainloop() "
   ]
  },
  {
   "cell_type": "markdown",
   "metadata": {},
   "source": [
    "## Las variables"
   ]
  },
  {
   "cell_type": "markdown",
   "metadata": {},
   "source": [
    "En vez de añadir un montón de cuadrados para crear nuestras líneas, el código es más sencillo si dibujamos un montón de pequeñas líneas. Hacemos un cuadrado si fijamos el ancho de la línea (`line_width`) igual al la longitud de la línea (`line_length`). Esto funciona bien porque las líneas tienen una coordenada de comienzo y una de fin, que es justamente de lo que queremos llevar la cuenta. Las variables están an la tabla:"
   ]
  },
  {
   "cell_type": "markdown",
   "metadata": {},
   "source": [
    "|Código| Qué significa|Valores iniciales|\n",
    "|-|-|-|\n",
    "|`p1_x`| guarda la posición del fin de la línea|la mitad del ancho del canvas|\n",
    "|`p1_y`|guarda la posición del final de la línea|la altura del canvas|\n",
    "|`p1_colour`|guarda los colores de la línea|\"green\"|\n",
    "|`line_width`|guarda el ancho de la línea|5 píxeles|\n",
    "|`line_length`|guarda la longitud de la línea|5 píxeles|"
   ]
  },
  {
   "cell_type": "markdown",
   "metadata": {},
   "source": [
    "## La función `p1_mover_N()`"
   ]
  },
  {
   "cell_type": "markdown",
   "metadata": {},
   "source": [
    "`p1_mover_N(self)` será una función que envía una línea dibujada a la pantalla."
   ]
  },
  {
   "cell_type": "markdown",
   "metadata": {},
   "source": [
    "## `self`"
   ]
  },
  {
   "cell_type": "markdown",
   "metadata": {},
   "source": [
    "Como la función usa métodos de `tkinter`, esta función deberá llevar el argumento `self`. Esto tiene que ver con el hecho de que los métodos de `tkinter` que provienen de clases. Las funciones en las clases se llaman métodos. Estudiaremos las clases más adelante, por ahora siempre deberemos poner el `self`."
   ]
  },
  {
   "cell_type": "markdown",
   "metadata": {},
   "source": [
    "## `global`"
   ]
  },
  {
   "cell_type": "markdown",
   "metadata": {},
   "source": [
    "Al comienzo de nuestro código, declaramos todas nuestras variables y les dimos unos valores iniciales (default). Como está fuera de las funciones, son **variables globales**. Esto quiere decir que estarán disponibles en cualquier parte del programa. En cambio, cualquier variable declarada dentro de una función solo estará disponible dentro de la función, son llamadas **variables locales**, lo que quiere decir que no estarán disponibles fuera de la función donde fueron definidas y su valor se parderá tan pronto como se salga de la función. Como queremos que todas las funciones que usemos sean globales, volvemos a declararlas dentro de las funciones, usando la palabra clave `global`. Esto solo es necesario si la función tendrá que hacer cambios en la variable. De esta manera las funciones pueden usar y modificar las mismas variables que el resto del programa."
   ]
  },
  {
   "cell_type": "markdown",
   "metadata": {},
   "source": [
    "## El método `create_line()`"
   ]
  },
  {
   "cell_type": "markdown",
   "metadata": {},
   "source": [
    "Usaremos el método `create_line()` de la clase Canvas de tkinter:\n",
    "\n",
    "`canvas.create_line(aqui van los argumentos)`\n",
    "\n",
    "Los argumento que se necesitan están en la tabla siguiente:\n",
    "\n",
    "|Argumentos necesarios por tkinter|Las variables suministradas|\n",
    "|-|-|\n",
    "|`x1` (coordenada x del comienzo de la línea)|`p1_x` (coordenada x actual del jugador 1)|\n",
    "|`y1` (coordenada y del comienzo de la línea)|`p1_y` (coordenada y actual del jugador 1)|\n",
    "|`x2` (coordenada x del final de la línea)|`p1_x` (coordenada x actual del jugador 1)|\n",
    "|`y2` (coordenada y del final de la línea)|`p1_y - line_length` (coordenada y actual del jugador 1 menos la longitud de la línea)|"
   ]
  },
  {
   "cell_type": "markdown",
   "metadata": {},
   "source": [
    "Para dibujar en el canvas creamos "
   ]
  }
 ],
 "metadata": {
  "kernelspec": {
   "display_name": "Python 2",
   "language": "python",
   "name": "python2"
  },
  "language_info": {
   "codemirror_mode": {
    "name": "ipython",
    "version": 2
   },
   "file_extension": ".py",
   "mimetype": "text/x-python",
   "name": "python",
   "nbconvert_exporter": "python",
   "pygments_lexer": "ipython2",
   "version": "2.7.6"
  }
 },
 "nbformat": 4,
 "nbformat_minor": 0
}
