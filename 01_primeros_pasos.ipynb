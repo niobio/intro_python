{
 "cells": [
  {
   "cell_type": "markdown",
   "metadata": {},
   "source": [
    "# Primeros pasos"
   ]
  },
  {
   "cell_type": "markdown",
   "metadata": {},
   "source": [
    "En esta unidad veremos los siguientes conceptos:\n",
    "\n",
    "* La función `print`\n",
    "* La función `input`\n",
    "* Tipos de datos: `int` (número entero), `float` (número decimal), `str` (string o cadena de caracteres) "
   ]
  },
  {
   "cell_type": "markdown",
   "metadata": {
    "slideshow": {
     "slide_type": "slide"
    }
   },
   "source": [
    "## Escribiendo nuestro primer programa"
   ]
  },
  {
   "cell_type": "markdown",
   "metadata": {
    "slideshow": {
     "slide_type": "-"
    }
   },
   "source": [
    "Nuestro primer programa consistirá en hacer que imprima la frase \"Hola mundo!\" en el terminal. Esto lo podemos hacer de manera interactiva con una simple instrucción escribiendo en la consola: "
   ]
  },
  {
   "cell_type": "code",
   "execution_count": 1,
   "metadata": {
    "collapsed": false,
    "slideshow": {
     "slide_type": "-"
    }
   },
   "outputs": [
    {
     "name": "stdout",
     "output_type": "stream",
     "text": [
      "Hola mundo!\n"
     ]
    }
   ],
   "source": [
    "print(\"Hola mundo!\")"
   ]
  },
  {
   "cell_type": "markdown",
   "metadata": {},
   "source": [
    "¡Ya hemos hecho nuestro primer programa! \n",
    "\n",
    "Y de paso hemos aprendido una de las funciones de Python, la función **`print`**. Esta función sirve para escribir en pantalla (en el terminal) mensajes de texto. La usaremos mucho a partir de ahora. Observad que print lleva un paréntesis. Lo que va dentro del paréntesis de las funciones se llama su \"argumento\".\n",
    "\n"
   ]
  },
  {
   "cell_type": "markdown",
   "metadata": {},
   "source": [
    "## Las variables"
   ]
  },
  {
   "cell_type": "markdown",
   "metadata": {},
   "source": [
    "Usaremos la memoria del ordenador para guardar información, será como poner la información en una caja a la que llamaremos variable (porque podremos cambiar esa información cuando queramos). Para poder encontrar la información debemos poner una etiqueta a esa caja, será el nombre de la variable. Conviene poner nombres a las variables que nos permitan identificarlas facilmente. Por ejemplo:"
   ]
  },
  {
   "cell_type": "code",
   "execution_count": 2,
   "metadata": {
    "collapsed": true
   },
   "outputs": [],
   "source": [
    "nombre = \"Juan\"\n",
    "num = 3\n",
    "num2 = num"
   ]
  },
  {
   "cell_type": "markdown",
   "metadata": {},
   "source": [
    "La primera variable llamada `nombre` contiene la palabra `\"Juan\"`, la segunda contiene el número 3 i en el último ejemplo vemos que podemos asignar el valor de una variable a otra variable."
   ]
  },
  {
   "cell_type": "markdown",
   "metadata": {},
   "source": [
    "## Nuestro segundo programa. La función `input`"
   ]
  },
  {
   "cell_type": "markdown",
   "metadata": {},
   "source": [
    "¿Pero que pasa si queremos que el usuario introduzca información al ordenador? Para ello usaremos la función **`input`**. Se usa de la siguiente manera:"
   ]
  },
  {
   "cell_type": "code",
   "execution_count": 3,
   "metadata": {
    "collapsed": false
   },
   "outputs": [
    {
     "name": "stdout",
     "output_type": "stream",
     "text": [
      "Introduce tu nombre: Jose\n"
     ]
    }
   ],
   "source": [
    "n = input(\"Introduce tu nombre: \")"
   ]
  },
  {
   "cell_type": "markdown",
   "metadata": {
    "collapsed": true
   },
   "source": [
    "En este caso el argumento es un texto que propone al usuario que introduzca su nombre. Mientras tanto el programa espera hasta que el usuario escriba el nombre y pulse la tecla Intro. El nombre introducido por el usuario lo guardamos en la variable `n` para poder usarlo más adelante."
   ]
  },
  {
   "cell_type": "markdown",
   "metadata": {},
   "source": [
    "Podem contestar utilitzant la funció `print`:"
   ]
  },
  {
   "cell_type": "code",
   "execution_count": 4,
   "metadata": {
    "collapsed": false
   },
   "outputs": [
    {
     "name": "stdout",
     "output_type": "stream",
     "text": [
      "Hola Jose, ¿Cómo estàs?\n"
     ]
    }
   ],
   "source": [
    "print(\"Hola \" +  n + \", ¿Cómo estàs?\")"
   ]
  },
  {
   "cell_type": "markdown",
   "metadata": {},
   "source": [
    "Podemos observar en la línea anterior un uso del signo `+`, en este caso no se usa para sumar sino para concatenar. Cuando el signo `+` se usa con cadenas de caracteres sirve para encadenar palabras (strings). Es important notar que cuando una letra o palabra no se escribe entre comillas se interpreta como una variable y lo que se imprime es en contenido de la variable y no su nombre. En este caso, en lugar de imprimir la letra n después de \"Hola\", lo que imprime es el nombre que introdujo el usuario.\n",
    "\n",
    "Pero claro, si le preguntamos cómo está deberíamos poder darle la oportunidad de contestar. Para que pueda introducir su respuesta lo mejor es usar `input` en lugar de `print`:"
   ]
  },
  {
   "cell_type": "code",
   "execution_count": 8,
   "metadata": {
    "collapsed": false
   },
   "outputs": [
    {
     "name": "stdout",
     "output_type": "stream",
     "text": [
      "Hola Jose, ¿Cómo estàs? bien\n"
     ]
    }
   ],
   "source": [
    "respuesta = input(\"Hola \" +  n + \", ¿Cómo estàs? \")"
   ]
  },
  {
   "cell_type": "markdown",
   "metadata": {},
   "source": [
    "Ahora la variable `respuesta` contiene la respuesta del usuario. Supongamos por un momento que el usuario haya contestado \"bien\" o \"mal\" como únicas alternativas. Queremos cerrar el diálogo contestando \"Me alegro!\" en el primer caso y \"Que pena\" en el segundo. Para hacer esto debemos tomar una decisión dependiendo de su respuesta. Esto nos lleva a una estructura de control muy usada en programación: el condicional **`if - elif - else`**."
   ]
  },
  {
   "cell_type": "markdown",
   "metadata": {},
   "source": [
    "## Tomar  decisiones"
   ]
  },
  {
   "cell_type": "markdown",
   "metadata": {},
   "source": [
    "Queremos decidir que imprimir en pantalla dependiendo del valor de la variable `respuesta`. El código podría escribirse de la siguiente manera:"
   ]
  },
  {
   "cell_type": "code",
   "execution_count": 9,
   "metadata": {
    "collapsed": false
   },
   "outputs": [
    {
     "name": "stdout",
     "output_type": "stream",
     "text": [
      "Que bien!\n"
     ]
    }
   ],
   "source": [
    "if respuesta == \"bien\":\n",
    "    print(\"Que bien!\")\n",
    "elif respuesta == \"mal\":\n",
    "    print(\"Que pena\")"
   ]
  },
  {
   "cell_type": "markdown",
   "metadata": {},
   "source": [
    "Para tomar la decisión debemos evaluar alguna expresión cuyo resultado sea verdadero (`True`) o falso (`False`). En este caso el signo `==` es un operador de comparación que dará como resultado `True` si los miembros de ambos lados son iguales y `False` en caso de que no sean iguales. La opción `elif` permite evaluar más opciones posibles, se pueden agregar tantas líneas `elif` como deseemos. Observad el signo \":\" después de cada línea de `if` o `elif`, esto indica al intérprete que lo que viene después es el bloque de código que se debe ejecutar en caso de ser cierta la expresión. ¿Cómo sabemos que parte del código que sigue es el que se debe ejecutar si la opción es cierta? Es muy fácil, el código aparece indentado (¿ves que `print` está más adentro?).\n"
   ]
  }
 ],
 "metadata": {
  "kernelspec": {
   "display_name": "Python 3",
   "language": "python",
   "name": "python3"
  },
  "language_info": {
   "codemirror_mode": {
    "name": "ipython",
    "version": 3
   },
   "file_extension": ".py",
   "mimetype": "text/x-python",
   "name": "python",
   "nbconvert_exporter": "python",
   "pygments_lexer": "ipython3",
   "version": "3.4.3"
  }
 },
 "nbformat": 4,
 "nbformat_minor": 0
}
